{
 "cells": [
  {
   "cell_type": "markdown",
   "id": "8ab27b5f-3868-453e-9ecb-d31f2a1e3e17",
   "metadata": {},
   "source": [
    "# Simple Harris Corner Detector for noisy images"
   ]
  },
  {
   "cell_type": "code",
   "execution_count": null,
   "id": "60f63104-e0fb-4557-93d9-42930727c397",
   "metadata": {},
   "outputs": [],
   "source": [
    "# import modules\n",
    "\n",
    "import cv2\n",
    "import numpy as np \n",
    "import math \n",
    "import matplotlib.pyplot as plt\n",
    "import sys\n",
    "import time\n",
    "import random\n",
    "import pandas as pd"
   ]
  },
  {
   "cell_type": "code",
   "execution_count": null,
   "id": "0b5ced42-3a0e-4453-8dc3-08de9913f4c4",
   "metadata": {},
   "outputs": [],
   "source": [
    "# Read image \n",
    "img = cv2.imread('test_image.png')\n",
    " \n",
    "# Convert to grayscale \n",
    "gray = cv2.cvtColor(img,cv2.COLOR_BGR2GRAY)"
   ]
  },
  {
   "cell_type": "code",
   "execution_count": null,
   "id": "b7025739-b508-4cf8-9d6d-ba843611076b",
   "metadata": {},
   "outputs": [],
   "source": [
    "# Apply a bilateral filter. \n",
    "# This filter smooths the image, reduces noise, while preserving the edges\n",
    "bi = cv2.bilateralFilter(gray, 5, 75, 75)"
   ]
  },
  {
   "cell_type": "code",
   "execution_count": null,
   "id": "5a0f42ba-0e0b-4a6d-b419-2bdcc6572fb5",
   "metadata": {},
   "outputs": [],
   "source": [
    "# Apply Harris Corner detection.\n",
    "# The four parameters are:\n",
    "# The input image\n",
    "# The size of the neighborhood considered for corner detection\n",
    "# Aperture parameter of the Sobel derivative used.\n",
    "# Harris detector free parameter \n",
    "dst = cv2.cornerHarris(bi, 4, 3, 0.04)"
   ]
  },
  {
   "cell_type": "code",
   "execution_count": null,
   "id": "3bc36678-afa8-4ef5-8013-a8f1e9f9fc1a",
   "metadata": {},
   "outputs": [],
   "source": [
    "# Marking and identifying corners\n",
    "dst = cv2.dilate(dst,None)\n",
    "mask = np.zeros_like(gray)  \n",
    "mask[dst>0.09*dst.max()] = 255"
   ]
  },
  {
   "cell_type": "code",
   "execution_count": null,
   "id": "69cc2ffb-e90a-43d9-9ded-ee18b1b9f77e",
   "metadata": {},
   "outputs": [],
   "source": [
    "coordinates = np.argwhere(mask)\n",
    "coordinates_list = [l.tolist() for l in list(coordinates)]\n",
    "coordinates_tuples = [tuple(l) for l in coordinates_list]\n",
    "thresh = 15\n",
    " \n",
    "# Compute the distance from each corner to every other corner. \n",
    "def distance(pt1, pt2):\n",
    "    (x1, y1), (x2, y2) = pt1, pt2\n",
    "    dist = math.sqrt( (x2 - x1)**2 + (y2 - y1)**2 )\n",
    "    return dist\n",
    " \n",
    "# Keep corners that satisfy the distance threshold\n",
    "coordinates_tuples_copy = coordinates_tuples\n",
    "i = 1   \n",
    "for pt1 in coordinates_tuples:\n",
    "    for pt2 in coordinates_tuples[i::1]:\n",
    "        if(distance(pt1, pt2) < thresh):\n",
    "            coordinates_tuples_copy.remove(pt2)      \n",
    "    i+=1\n",
    "\n",
    "# Place the corners on a copy of the original image\n",
    "img2 = img.copy()\n",
    "for pt in coordinates_tuples:\n",
    "    print(tuple(reversed(pt))) # Print corners to the screen\n",
    "    cv2.circle(img2, tuple(reversed(pt)), 10, (0, 0, 255), -1)"
   ]
  },
  {
   "cell_type": "code",
   "execution_count": null,
   "id": "4ed8b937-1788-4436-889b-a4dd82b5e767",
   "metadata": {},
   "outputs": [],
   "source": [
    "plt.figure(\"Harris Corners\")\n",
    "plt.imshow(img2)"
   ]
  },
  {
   "cell_type": "code",
   "execution_count": null,
   "id": "2b6a2a42-9ba4-40a2-bf72-333a23a86ea0",
   "metadata": {},
   "outputs": [],
   "source": [
    "image_path = \"test_harris.png\"\n",
    "cv2.imwrite(image_path, image)"
   ]
  }
 ],
 "metadata": {
  "kernelspec": {
   "display_name": "Python 3",
   "language": "python",
   "name": "python3"
  },
  "language_info": {
   "codemirror_mode": {
    "name": "ipython",
    "version": 3
   },
   "file_extension": ".py",
   "mimetype": "text/x-python",
   "name": "python",
   "nbconvert_exporter": "python",
   "pygments_lexer": "ipython3",
   "version": "3.6.13"
  }
 },
 "nbformat": 4,
 "nbformat_minor": 5
}
